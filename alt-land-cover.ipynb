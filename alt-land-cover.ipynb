{
 "cells": [
  {
   "cell_type": "code",
   "execution_count": null,
   "id": "4a8cbe14",
   "metadata": {},
   "outputs": [],
   "source": [
    "catalog = pystac_client.Client.open(\n",
    "    \"https://planetarycomputer.microsoft.com/api/stac/v1\",\n",
    "    modifier=planetary_computer.sign_inplace,\n",
    ")\n",
    "\n",
    "search = catalog.search(collections=[\"io-lulc-9-class\"], bbox=mendocino_bbox)\n",
    "\n",
    "items = search.item_collection()\n",
    "print(f\"Returned {len(items)} Items\")"
   ]
  },
  {
   "cell_type": "code",
   "execution_count": null,
   "id": "dc883b3e",
   "metadata": {},
   "outputs": [],
   "source": [
    "import stackstac\n",
    "\n",
    "# The STAC metadata contains some information we'll want to use when creating\n",
    "# our merged dataset. Get the EPSG code of the first item and the nodata value.\n",
    "item = items[0]\n",
    "\n",
    "# Create a single DataArray from out multiple resutls with the corresponding\n",
    "# rasters projected to a single CRS. Note that we set the dtype to ubyte, which\n",
    "# matches our data, since stackstac will use float64 by default.\n",
    "stack = (\n",
    "    stackstac.stack(\n",
    "        items,\n",
    "        dtype=float,\n",
    "        fill_value=255,\n",
    "        bounds_latlon=mendocino_bbox,\n",
    "        sortby_date=False,\n",
    "        epsg=4326\n",
    "    )\n",
    "    .assign_coords(\n",
    "        time=pd.to_datetime([item.properties[\"start_datetime\"] for item in items])\n",
    "        .tz_convert(None)\n",
    "        .to_numpy()\n",
    "    )\n",
    "    .sortby(\"time\")\n",
    ")\n",
    "\n",
    "stack"
   ]
  },
  {
   "cell_type": "code",
   "execution_count": null,
   "id": "395fd045",
   "metadata": {},
   "outputs": [],
   "source": [
    "import dask.distributed\n",
    "\n",
    "client = dask.distributed.Client(processes=False)\n",
    "print(f\"/proxy/{client.scheduler_info()['services']['dashboard']}/status\")"
   ]
  },
  {
   "cell_type": "code",
   "execution_count": null,
   "id": "c5d316de",
   "metadata": {},
   "outputs": [],
   "source": [
    "# Filter the stack by year before computing\n",
    "stack_filtered = stack.sel(time=stack.time.dt.year.isin([2017, 2019]))\n",
    "\n",
    "print(f\"Original stack shape: {stack.shape}\")\n",
    "print(f\"Filtered stack shape: {stack_filtered.shape}\")\n",
    "\n",
    "# Now compute only the filtered data\n",
    "merged = stack_filtered.squeeze().compute()\n",
    "\n",
    "print(f\"Final merged data shape: {merged.shape}\")\n",
    "print(f\"Years in merged data: {merged.time.dt.year.values}\")"
   ]
  },
  {
   "cell_type": "code",
   "execution_count": null,
   "id": "58e1114d",
   "metadata": {},
   "outputs": [],
   "source": [
    "# g = merged.plot(col=\"time\")\n",
    "# for ax in g.axs.flat:\n",
    "#     ax.set_axis_off()\n"
   ]
  },
  {
   "cell_type": "code",
   "execution_count": null,
   "id": "cb7821ea",
   "metadata": {},
   "outputs": [],
   "source": []
  },
  {
   "cell_type": "code",
   "execution_count": null,
   "id": "c63c36ac",
   "metadata": {},
   "outputs": [],
   "source": [
    "from pystac.extensions.item_assets import ItemAssetsExtension\n",
    "\n",
    "collection = catalog.get_collection(\"io-lulc-9-class\")\n",
    "ia = ItemAssetsExtension.ext(collection)\n",
    "\n",
    "x = ia.item_assets[\"data\"]\n",
    "class_names = {x[\"summary\"]: x[\"values\"][0] for x in x.properties[\"file:values\"]}\n",
    "values_to_classes = {v: k for k, v in class_names.items()}\n",
    "class_count = len(class_names)\n",
    "class_names"
   ]
  },
  {
   "cell_type": "code",
   "execution_count": null,
   "id": "7782e806",
   "metadata": {},
   "outputs": [],
   "source": [
    "with rasterio.open(item.assets[\"data\"].href) as src:\n",
    "    colormap_def = src.colormap(1)  # get metadata colormap for band 1\n",
    "    colormap = [\n",
    "        np.array(colormap_def[i]) / 255 for i in range(max(class_names.values()) + 1)\n",
    "    ]  # transform to matplotlib color format\n",
    "\n",
    "cmap = ListedColormap(colormap)"
   ]
  },
  {
   "cell_type": "code",
   "execution_count": null,
   "id": "f3778b81",
   "metadata": {},
   "outputs": [],
   "source": [
    "vmin = 0\n",
    "vmax = max(class_names.values()) + 1\n",
    "epsg = merged.epsg.item()\n",
    "# Convert to a standard projection before plotting\n",
    "merged = merged.rio.reproject(\"EPSG:4326\")\n",
    "\n",
    "p = merged.plot(\n",
    "    subplot_kws=dict(projection=ccrs.PlateCarree()),\n",
    "    col=\"time\",\n",
    "    transform=ccrs.PlateCarree(),\n",
    "    cmap=cmap,\n",
    "    vmin=vmin,\n",
    "    vmax=vmax,\n",
    "    figsize=(16, 6),\n",
    ")\n",
    "ticks = np.linspace(0.5, vmax - 0.5, vmax - vmin)\n",
    "labels = [values_to_classes.get(i, \"\") for i in range(cmap.N)]\n",
    "p.cbar.set_ticks(ticks, labels=labels)\n",
    "p.cbar.set_label(\"Class\")"
   ]
  },
  {
   "cell_type": "code",
   "execution_count": null,
   "id": "8df0b112",
   "metadata": {},
   "outputs": [],
   "source": [
    "colors = list(cmap.colors)\n",
    "\n",
    "ax = (\n",
    "    pd.value_counts(merged.data.ravel(), sort=False)\n",
    "    .sort_index()\n",
    "    .reindex(range(cmap.N), fill_value=0)\n",
    "    .rename(values_to_classes)\n",
    "    .plot.barh(color=colors, rot=0, width=0.9)\n",
    ")\n",
    "ax.set(\n",
    "    title=\"Distribution of Land Cover classes\",\n",
    "    ylabel=\"Landcover class\",\n",
    "    xlabel=\"Class count\",\n",
    ")"
   ]
  }
 ],
 "metadata": {
  "language_info": {
   "name": "python"
  }
 },
 "nbformat": 4,
 "nbformat_minor": 5
}
